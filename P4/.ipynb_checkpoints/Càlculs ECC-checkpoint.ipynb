{
 "cells": [
  {
   "cell_type": "code",
   "execution_count": 4,
   "id": "5b31a123",
   "metadata": {},
   "outputs": [
    {
     "data": {
      "text/plain": [
       "'\\n\\n#(b) Comprobad que la clave pública P de www.wikipedia.org es realmente un punto de la curva.\\n#(c) Calculad el orden del punto P .\\n\\n# Una vez ya hacemos el cálculo del orden del punto estamos verificando que realmente la clave pública P\\n# pertenece a la curva. El resultado del orden es el siguiente:\\n\\n#Punto a partir de la clave pública\\nx = 0x1ba73b45d7d1948351b92073aef3fb77af348815ae9edbe6a29d98d5d7d3de11\\ny = 0x65dd7b1fb40ee534c0fba27def07cdfa64ae45522ddd4c4338a169f4606cac09\\nG = E([x,y])\\nG.order()\\n\\n\\n#d) Verificación de la firma ECSDA cuya clave pública es el punto de la curva secpXXX\\n\\n#datos de la curva -> XXX \\n\\np = 115792089210356248762697446949407573530086143415290314195533631308867097853951\\nn = 115792089210356248762697446949407573529996955224135760342422259061068512044369\\n\\n#la a es -3\\n#la b es propia de la curva\\n\\na = -3\\nb = 0x5ac635d8aa3a93e7b3ebbd55769886bc651d06b0cc53b0f63bce3c3e27d2604b\\n\\n\\nE = EllipticCurve(Zmod(p),[a,b])\\n#E.cardinality()\\n#E.cardinality().is_prime()\\n\\n#Punto a partir de la clave pública\\nx = 0x1ba73b45d7d1948351b92073aef3fb77af348815ae9edbe6a29d98d5d7d3de11\\ny = 0x65dd7b1fb40ee534c0fba27def07cdfa64ae45522ddd4c4338a169f4606cac09\\nG = E([x,y])\\nG.order()\\n#G.order()\\n\\n#Verificacion de la signatura\\n\\n#Sustituimos f1 y f2 con los bytes que capturamos del wireshark en el campo de signature y dividiendo entre dos cadenas de 32 bytes\\nf1 = 0x0089f4e1ab93b96fe8ab4fd4b0a9e3c2634f53081bd5951e2cc6125824447e2780\\nf2 = 0x00a5be0c4d696f3e586dda1784f7b67d0dcaf7fde6234fe835ecf152e04b8e8575\\n\\n#los 256 primeros bits del shaXXX de la concatenacion de los binarios concatenados\\nm = 0x193c3595efb38d79bd2d63aae4e4cf62dab92f4ee1dd1a8a8d924a308a2e1e49\\n\\n\\n\\n\\n#Punto que viene añadido en el documento NIST\\n\\nx1 = 0xaa87ca22be8b05378eb1c71ef320ad746e1d3b628ba79b9859f741e082542a385502f25dbf55296c3a545e3872760ab7\\ny1 = 0x3617de4a96262c6f5d9e98bf9292dc29f8f41dbd289a147ce9da3113b5f0b8c00a60b1ce1d7e819d7a431d7c90ea0e5f \\nPunto = E([x1,y1])\\n#Punto.order()\\n\\nw1 = mod(m*F2^-1,n)\\nw2 = mod(F1*F2^-1,n)\\n\\nverificacion = Integer(w1)*Punto+G*Integer(w2)\\nmod(verificacion[0],n) == F1\\n\\n\\n'"
      ]
     },
     "execution_count": 4,
     "metadata": {},
     "output_type": "execute_result"
    }
   ],
   "source": [
    "#**************Conexión TLS 1.3 con www.wikipedia.org***************\n",
    "#****************************Ejercicio 1****************************\n",
    "\n",
    "#(a) Comprobad que el número de puntos (orden) de la curva usada en el certificado es primo.\n",
    "\n",
    "#Datos de la curva p-256 (ecdsa_secp256r1_sha256)\n",
    "p = 115792089210356248762697446949407573530086143415290314195533631308867097853951\n",
    "n = 115792089210356248762697446949407573529996955224135760342422259061068512044369\n",
    "\n",
    "#la a es -3\n",
    "#la b es propia de la curva\n",
    "\n",
    "a = -3\n",
    "b = 0x5ac635d8aa3a93e7b3ebbd55769886bc651d06b0cc53b0f63bce3c3e27d2604b\n",
    "\n",
    "\n",
    "E = EllipticCurve(Zmod(p),[a,b])\n",
    "E.cardinality()\n",
    "E.cardinality().is_prime()\n",
    "\n",
    "\n",
    "#(b) Comprobad que la clave pública P de www.wikipedia.org es realmente un punto de la curva.\n",
    "#(c) Calculad el orden del punto P .\n",
    "\n",
    "# Una vez ya hacemos el cálculo del orden del punto estamos verificando que realmente la clave pública P\n",
    "# pertenece a la curva. El resultado del orden es el siguiente:\n",
    "\n",
    "#Punto a partir de la clave pública  Q = (Qx, Qy)\n",
    "x = 0x1ba73b45d7d1948351b92073aef3fb77af348815ae9edbe6a29d98d5d7d3de11\n",
    "y = 0x65dd7b1fb40ee534c0fba27def07cdfa64ae45522ddd4c4338a169f4606cac09\n",
    "G = E([x,y])\n",
    "G.order()\n",
    "\n",
    "\n",
    "#d) Verificación de la firma ECSDA cuya clave pública es el punto de la curva secpXXX\n",
    "\n",
    "#Datos de la curva p-256 (ecdsa_secp256r1_sha256)\n",
    "p = 115792089210356248762697446949407573530086143415290314195533631308867097853951\n",
    "n = 115792089210356248762697446949407573529996955224135760342422259061068512044369\n",
    "\n",
    "#la a es -3\n",
    "#la b es propia de la curva\n",
    "\n",
    "a = -3\n",
    "b = 0x5ac635d8aa3a93e7b3ebbd55769886bc651d06b0cc53b0f63bce3c3e27d2604b\n",
    "\n",
    "\n",
    "E = EllipticCurve(Zmod(p),[a,b])\n",
    "#E.cardinality()\n",
    "#E.cardinality().is_prime()\n",
    "\n",
    "#Punto a partir de la clave pública  Q = (Qx, Qy)\n",
    "x = 0x1ba73b45d7d1948351b92073aef3fb77af348815ae9edbe6a29d98d5d7d3de11\n",
    "y = 0x65dd7b1fb40ee534c0fba27def07cdfa64ae45522ddd4c4338a169f4606cac09\n",
    "G = E([x,y])\n",
    "G.order()\n",
    "#G.order()\n",
    "\n",
    "#Verificacion de la signatura\n",
    "\n",
    "#Sustituimos f1 y f2 con los bytes que capturamos del wireshark en el campo de signature y dividiendo entre dos cadenas de 32 bytes\n",
    "f1 = 0x0089f4e1ab93b96fe8ab4fd4b0a9e3c2634f53081bd5951e2cc6125824447e2780\n",
    "f2 = 0x00a5be0c4d696f3e586dda1784f7b67d0dcaf7fde6234fe835ecf152e04b8e8575\n",
    "\n",
    "#los 256 primeros bits del shaXXX de la concatenacion de los binarios concatenados\n",
    "m = 0x193c3595efb38d79bd2d63aae4e4cf62dab92f4ee1dd1a8a8d924a308a2e1e49\n",
    "\n",
    "\n",
    "\n",
    "\n",
    "#Punto que viene añadido en el documento NIST\n",
    "\n",
    "x1 = 0xaa87ca22be8b05378eb1c71ef320ad746e1d3b628ba79b9859f741e082542a385502f25dbf55296c3a545e3872760ab7\n",
    "y1 = 0x3617de4a96262c6f5d9e98bf9292dc29f8f41dbd289a147ce9da3113b5f0b8c00a60b1ce1d7e819d7a431d7c90ea0e5f \n",
    "Punto = E([x1,y1])\n",
    "#Punto.order()\n",
    "\n",
    "w1 = mod(m*F2^-1,n)\n",
    "w2 = mod(F1*F2^-1,n)\n",
    "\n",
    "verificacion = Integer(w1)*Punto+G*Integer(w2)\n",
    "mod(verificacion[0],n) == F1\n",
    "\n",
    "\n",
    "\n",
    "#********************Conexión con www.fib.upc.edu*******************\n",
    "#****************************Ejercicio 2****************************\n",
    "\n",
    "# a) \n",
    "\n",
    "    #Periodo de validez del certificado: \n",
    "        # No antes Mon, 28 Mar 2022 00:00:00 GMT\n",
    "        # No después Tue, 28 Mar 2023 23:59:59 GMT\n",
    "        \n"
   ]
  },
  {
   "cell_type": "code",
   "execution_count": 6,
   "id": "77d9f0c5",
   "metadata": {},
   "outputs": [
    {
     "data": {
      "text/plain": [
       "True"
      ]
     },
     "execution_count": 6,
     "metadata": {},
     "output_type": "execute_result"
    }
   ],
   "source": [
    "#Datos de la curva p-256 (ecdsa_secp256r1_sha256)\n",
    "p = 115792089210356248762697446949407573530086143415290314195533631308867097853951\n",
    "n = 115792089210356248762697446949407573529996955224135760342422259061068512044369\n",
    "\n",
    "#la a es -3\n",
    "#la b es propia de la curva\n",
    "\n",
    "a = -3\n",
    "b = 0x5ac635d8aa3a93e7b3ebbd55769886bc651d06b0cc53b0f63bce3c3e27d2604b\n",
    "\n",
    "\n",
    "E = EllipticCurve(Zmod(p),[a,b])\n",
    "E.cardinality()\n",
    "E.cardinality().is_prime()"
   ]
  },
  {
   "cell_type": "code",
   "execution_count": 7,
   "id": "585fccee",
   "metadata": {},
   "outputs": [
    {
     "data": {
      "text/plain": [
       "115792089210356248762697446949407573529996955224135760342422259061068512044369"
      ]
     },
     "execution_count": 7,
     "metadata": {},
     "output_type": "execute_result"
    }
   ],
   "source": [
    "# Una vez ya hacemos el cálculo del orden del punto estamos verificando que realmente la clave pública P\n",
    "# pertenece a la curva. El resultado del orden es el siguiente:\n",
    "\n",
    "#Punto a partir de la clave pública Q = (Qx, Qy)\n",
    "x = 0x1ba73b45d7d1948351b92073aef3fb77af348815ae9edbe6a29d98d5d7d3de11\n",
    "y = 0x65dd7b1fb40ee534c0fba27def07cdfa64ae45522ddd4c4338a169f4606cac09\n",
    "G = E([x,y])\n",
    "G.order()\n"
   ]
  },
  {
   "cell_type": "code",
   "execution_count": 7,
   "id": "8f5b1588",
   "metadata": {},
   "outputs": [
    {
     "data": {
      "text/plain": [
       "False"
      ]
     },
     "execution_count": 7,
     "metadata": {},
     "output_type": "execute_result"
    }
   ],
   "source": [
    "# VERIFICACIÓN DE FIRMA ECSDA\n",
    "\n",
    "#Datos de la curva p-256 (ecdsa_secp256r1_sha256)\n",
    "p = 115792089210356248762697446949407573530086143415290314195533631308867097853951\n",
    "n = 115792089210356248762697446949407573529996955224135760342422259061068512044369\n",
    "\n",
    "a = -3\n",
    "b = 0x5ac635d8aa3a93e7b3ebbd55769886bc651d06b0cc53b0f63bce3c3e27d2604b\n",
    "\n",
    "\n",
    "E = EllipticCurve(Zmod(p),[a,b])\n",
    "\n",
    "#Punto a partir de la clave pública  Q = (Qx, Qy)\n",
    "x = 0x1ba73b45d7d1948351b92073aef3fb77af348815ae9edbe6a29d98d5d7d3de11\n",
    "y = 0x65dd7b1fb40ee534c0fba27def07cdfa64ae45522ddd4c4338a169f4606cac09\n",
    "G = E([x,y])\n",
    "\n",
    "#Verificacion de la signatura\n",
    "\n",
    "#Sustituimos f1 y f2 con los bytes que capturamos del wireshark en el campo de signature y dividiendo entre dos cadenas de 32 bytes\n",
    "F1 = 0x0089f4e1ab93b96fe8ab4fd4b0a9e3c2634f53081bd5951e2cc6125824447e2780\n",
    "F2 = 0x00a5be0c4d696f3e586dda1784f7b67d0dcaf7fde6234fe835ecf152e04b8e8575\n",
    "\n",
    "m = 0xeef66f6fd72275a91b6b120c625fb8f1bc8a6219bd642323180689b03a41cbbf\n",
    "\n",
    "\n",
    "\n",
    "\n",
    "#Punto que viene añadido en el documento NIST\n",
    "\n",
    "x1 = 0x6b17d1f2e12c4247f8bce6e563a440f277037d812deb33a0f4a13945d898c296\n",
    "y1 = 0x4fe342e2fe1a7f9b8ee7eb4a7c0f9e162bce33576b315ececbb6406837bf51f5\n",
    "Punto = E([x1,y1])\n",
    "\n",
    "w1 = mod(m*F2^-1,n)\n",
    "w2 = mod(F1*F2^-1,n)\n",
    "\n",
    "verificacion = Integer(w1)*Punto+G*Integer(w2)\n",
    "mod(verificacion[0],n) == F1\n"
   ]
  },
  {
   "cell_type": "code",
   "execution_count": null,
   "id": "4be7bfc4",
   "metadata": {},
   "outputs": [],
   "source": []
  },
  {
   "cell_type": "code",
   "execution_count": null,
   "id": "237accf9",
   "metadata": {},
   "outputs": [],
   "source": []
  },
  {
   "cell_type": "code",
   "execution_count": null,
   "id": "7c9badda",
   "metadata": {},
   "outputs": [],
   "source": []
  }
 ],
 "metadata": {
  "kernelspec": {
   "display_name": "SageMath 9.5",
   "language": "sage",
   "name": "sagemath"
  },
  "language_info": {
   "codemirror_mode": {
    "name": "ipython",
    "version": 3
   },
   "file_extension": ".py",
   "mimetype": "text/x-python",
   "name": "python",
   "nbconvert_exporter": "python",
   "pygments_lexer": "ipython3",
   "version": "3.10.6"
  }
 },
 "nbformat": 4,
 "nbformat_minor": 5
}
